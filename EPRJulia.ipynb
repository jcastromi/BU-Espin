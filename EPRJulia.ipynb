{
 "cells": [
  {
   "cell_type": "markdown",
   "id": "06554ad7",
   "metadata": {},
   "source": [
    "H= s*g*H-Betan*H*gN+SAI"
   ]
  },
  {
   "cell_type": "code",
   "execution_count": 1,
   "id": "d2e0bc7b",
   "metadata": {},
   "outputs": [
    {
     "data": {
      "text/plain": [
       "2.2118836612050002e-13"
      ]
     },
     "execution_count": 1,
     "metadata": {},
     "output_type": "execute_result"
    }
   ],
   "source": [
    "using LinearAlgebra\n",
    "using Plots\n",
    "using Decimals\n",
    "using PhysicalConstants.CODATA2018\n",
    "\n",
    "function Spin(S)\n",
    "    a=length(S)\n",
    "    if(a==1)\n",
    "        S=[S[1],S[1],S[1]]\n",
    "        return S\n",
    "    else\n",
    "        if(a==2)\n",
    "            S=[S[1],S[1],S[2]]\n",
    "            return S\n",
    "        else\n",
    "            S=[S[1],S[2],S[3]]\n",
    "            return S\n",
    "        end\n",
    "    end\n",
    "end\n",
    "\n",
    "function Gfactor(g)\n",
    "    a=length(g)\n",
    "    if(a==1)\n",
    "        g=[g[1],g[1],g[1]]\n",
    "        return g\n",
    "    else\n",
    "        if(a==2)\n",
    "            g=[g[1],g[1],g[2]]\n",
    "            return g\n",
    "        else\n",
    "            g=[g[1],g[2],g[3]]\n",
    "            return g\n",
    "        end\n",
    "    end\n",
    "end\n",
    "\n",
    "function Hze(S,g,H)\n",
    "    #En ergs/gauss\n",
    "    Mb=9.27414533*10^-17    \n",
    "    M=((S[1]*g[1])+(S[2]*g[2])+(S[3]*g[3]))\n",
    "    K=Mb*H\n",
    "    return K*M\n",
    "end\n",
    "\n",
    "function Hnze(I,gn,H)\n",
    "    #En ergs/gauss\n",
    "    Mn=5.050783699*10^-24\n",
    "    K=gn*(I[1]+I[2]+I[3])\n",
    "    W=H*Mn\n",
    "    return K*W\n",
    "end\n",
    "\n",
    "S=[1/2,1/2]\n",
    "S=Spin(S)\n",
    "g=[0.53]\n",
    "g=Gfactor(g)\n",
    "gn=\n",
    "#h=1*PlanckConstant\n",
    "\n",
    "Hze(S,g,3000)\n",
    "#Hnze([6,5,4],0.04,3000)\n"
   ]
  },
  {
   "cell_type": "code",
   "execution_count": 28,
   "id": "7ae0b30a",
   "metadata": {},
   "outputs": [
    {
     "data": {
      "text/plain": [
       "9.27414533e-14"
      ]
     },
     "execution_count": 28,
     "metadata": {},
     "output_type": "execute_result"
    }
   ],
   "source": [
    "Mb=9.27414533*10^-17*10^3\n"
   ]
  }
 ],
 "metadata": {
  "kernelspec": {
   "display_name": "Julia 1.10.2",
   "language": "julia",
   "name": "julia-1.10"
  },
  "language_info": {
   "file_extension": ".jl",
   "mimetype": "application/julia",
   "name": "julia",
   "version": "1.10.2"
  }
 },
 "nbformat": 4,
 "nbformat_minor": 5
}
